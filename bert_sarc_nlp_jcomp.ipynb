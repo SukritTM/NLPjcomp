{
  "nbformat": 4,
  "nbformat_minor": 0,
  "metadata": {
    "colab": {
      "provenance": [],
      "machine_shape": "hm"
    },
    "kernelspec": {
      "name": "python3",
      "display_name": "Python 3"
    },
    "language_info": {
      "name": "python"
    },
    "gpuClass": "premium",
    "accelerator": "GPU"
  },
  "cells": [
    {
      "cell_type": "code",
      "source": [
        "from google.colab import drive\n",
        "drive.mount('/content/drive')"
      ],
      "metadata": {
        "colab": {
          "base_uri": "https://localhost:8080/"
        },
        "id": "jZsejzyAtS-d",
        "outputId": "6168f526-e7f8-45e7-8995-532dbf8db6f6"
      },
      "execution_count": null,
      "outputs": [
        {
          "output_type": "stream",
          "name": "stdout",
          "text": [
            "Mounted at /content/drive\n"
          ]
        }
      ]
    },
    {
      "cell_type": "code",
      "source": [
        "!pip install -q --upgrade keras-nlp tensorflow"
      ],
      "metadata": {
        "colab": {
          "base_uri": "https://localhost:8080/"
        },
        "id": "eH76irZFtiTW",
        "outputId": "00da92b0-df3b-4690-8c5b-fe7132ad04bc"
      },
      "execution_count": null,
      "outputs": [
        {
          "output_type": "stream",
          "name": "stdout",
          "text": [
            "\u001b[2K     \u001b[90m━━━━━━━━━━━━━━━━━━━━━━━━━━━━━━━━━━━━━━━\u001b[0m \u001b[32m466.8/466.8 kB\u001b[0m \u001b[31m9.4 MB/s\u001b[0m eta \u001b[36m0:00:00\u001b[0m\n",
            "\u001b[2K     \u001b[90m━━━━━━━━━━━━━━━━━━━━━━━━━━━━━━━━━━━━━━━━\u001b[0m \u001b[32m6.0/6.0 MB\u001b[0m \u001b[31m78.8 MB/s\u001b[0m eta \u001b[36m0:00:00\u001b[0m\n",
            "\u001b[?25h"
          ]
        }
      ]
    },
    {
      "cell_type": "code",
      "execution_count": null,
      "metadata": {
        "id": "ooINk7dqs3jZ"
      },
      "outputs": [],
      "source": [
        "import keras_nlp\n",
        "import tensorflow as tf\n",
        "from tensorflow import keras\n",
        "import numpy as np\n",
        "import pandas as pd\n",
        "from sklearn.model_selection import train_test_split\n",
        "# Use mixed precision for optimal performance\n",
        "keras.mixed_precision.set_global_policy(\"mixed_float16\")"
      ]
    },
    {
      "cell_type": "code",
      "source": [
        "data = pd.read_csv('/content/drive/MyDrive/data/train-balanced-sarcasm.csv')"
      ],
      "metadata": {
        "id": "Gbh5s_tRtshC"
      },
      "execution_count": null,
      "outputs": []
    },
    {
      "cell_type": "code",
      "source": [
        "data = data[['comment', 'label']]"
      ],
      "metadata": {
        "id": "biqd-CVjt1wC"
      },
      "execution_count": null,
      "outputs": []
    },
    {
      "cell_type": "code",
      "source": [
        "data = data.sample(frac=1, random_state=42).reset_index(drop=True)\n"
      ],
      "metadata": {
        "id": "inMxoYl4uPE6"
      },
      "execution_count": null,
      "outputs": []
    },
    {
      "cell_type": "code",
      "source": [
        "X, y = data['comment'].astype(str), data['label']"
      ],
      "metadata": {
        "id": "xJnsxxcDuXJ7"
      },
      "execution_count": null,
      "outputs": []
    },
    {
      "cell_type": "code",
      "source": [
        "X"
      ],
      "metadata": {
        "colab": {
          "base_uri": "https://localhost:8080/"
        },
        "id": "9wFImoImxDty",
        "outputId": "f87b3e34-05d3-4846-cf2f-f584bab519ef"
      },
      "execution_count": null,
      "outputs": [
        {
          "output_type": "execute_result",
          "data": {
            "text/plain": [
              "0                         And he sure as hell is successful!\n",
              "1          wait, you have to win the candidates to challe...\n",
              "2          I mean how could anyone not see that it is ant...\n",
              "3          Funny thing, most of the girl pants I've bough...\n",
              "4          Also Ranch dressing, because LBJ was Texan, an...\n",
              "                                 ...                        \n",
              "1010821     Ah well, they can just buy another guitar right?\n",
              "1010822    that's not even gonna get 1 fps in minesweeper...\n",
              "1010823    Staying away I'm on Boise unlv over 64 and gon...\n",
              "1010824    That will probably be the barest possible pass...\n",
              "1010825          Looks like a band tee for asking alexandria\n",
              "Name: comment, Length: 1010826, dtype: object"
            ]
          },
          "metadata": {},
          "execution_count": 8
        }
      ]
    },
    {
      "cell_type": "code",
      "source": [
        "dataset = tf.data.Dataset.from_tensor_slices((tf.constant(X), y))"
      ],
      "metadata": {
        "id": "KCmWOfkhwx2u"
      },
      "execution_count": null,
      "outputs": []
    },
    {
      "cell_type": "code",
      "source": [
        "dataset = dataset.batch(32)"
      ],
      "metadata": {
        "id": "Tk7Q-wcqzQ45"
      },
      "execution_count": null,
      "outputs": []
    },
    {
      "cell_type": "code",
      "source": [
        "tot = dataset.cardinality().numpy()\n",
        "train_split = 0.8\n",
        "train_size = np.round(tot*train_split)\n",
        "test_size = tot - train_size\n",
        "\n",
        "train_ds = dataset.take(train_size)\n",
        "test_ds = dataset.skip(train_size).take(test_size)\n",
        "print(train_ds.cardinality().numpy())\n",
        "print(test_ds.cardinality().numpy())\n"
      ],
      "metadata": {
        "colab": {
          "base_uri": "https://localhost:8080/"
        },
        "id": "cHRajJ_oyRhC",
        "outputId": "109d52b1-2aff-4179-ef9d-d0eea11c75eb"
      },
      "execution_count": null,
      "outputs": [
        {
          "output_type": "stream",
          "name": "stdout",
          "text": [
            "25271\n",
            "6318\n"
          ]
        }
      ]
    },
    {
      "cell_type": "code",
      "source": [
        "classifier = keras_nlp.models.BertClassifier.from_preset(\n",
        "    \"bert_tiny_en_uncased\",\n",
        "    num_classes=2,\n",
        ")"
      ],
      "metadata": {
        "colab": {
          "base_uri": "https://localhost:8080/"
        },
        "id": "F6jGykbyu3ET",
        "outputId": "3d86a259-a606-4651-ee10-3196da8fed4a"
      },
      "execution_count": null,
      "outputs": [
        {
          "output_type": "stream",
          "name": "stdout",
          "text": [
            "Downloading data from https://storage.googleapis.com/keras-nlp/models/bert_tiny_en_uncased/v1/vocab.txt\n",
            "231508/231508 [==============================] - 0s 2us/step\n",
            "Downloading data from https://storage.googleapis.com/keras-nlp/models/bert_tiny_en_uncased/v1/model.h5\n",
            "17602216/17602216 [==============================] - 2s 0us/step\n"
          ]
        }
      ]
    },
    {
      "cell_type": "code",
      "source": [
        "classifier.fit(train_ds, epochs=1)"
      ],
      "metadata": {
        "colab": {
          "base_uri": "https://localhost:8080/"
        },
        "id": "zDa8TltBvfiz",
        "outputId": "1a643833-88d0-4ed2-b160-4e47da304c27"
      },
      "execution_count": null,
      "outputs": [
        {
          "output_type": "stream",
          "name": "stdout",
          "text": [
            "25271/25271 [==============================] - 7726s 306ms/step - loss: 0.5564 - sparse_categorical_accuracy: 0.7108\n"
          ]
        },
        {
          "output_type": "execute_result",
          "data": {
            "text/plain": [
              "<keras.callbacks.History at 0x7f515ae17550>"
            ]
          },
          "metadata": {},
          "execution_count": 14
        }
      ]
    },
    {
      "cell_type": "code",
      "source": [
        "classifier.evaluate(test_ds)"
      ],
      "metadata": {
        "colab": {
          "base_uri": "https://localhost:8080/"
        },
        "id": "-b7zLWK1xS7E",
        "outputId": "d9923ede-1022-4430-eb30-5fa6dc1c6c61"
      },
      "execution_count": null,
      "outputs": [
        {
          "output_type": "stream",
          "name": "stdout",
          "text": [
            "6318/6318 [==============================] - 156s 24ms/step - loss: 0.5257 - sparse_categorical_accuracy: 0.7344\n"
          ]
        },
        {
          "output_type": "execute_result",
          "data": {
            "text/plain": [
              "[0.5256841778755188, 0.7344104051589966]"
            ]
          },
          "metadata": {},
          "execution_count": 15
        }
      ]
    },
    {
      "cell_type": "code",
      "source": [
        "classifier.save('bert_tiny_en_uncased_sarc_1epoch')"
      ],
      "metadata": {
        "colab": {
          "base_uri": "https://localhost:8080/"
        },
        "id": "qmc9wSDzSYXd",
        "outputId": "681f05b7-6422-4196-e5ce-f80d8e06f6cc"
      },
      "execution_count": null,
      "outputs": [
        {
          "output_type": "stream",
          "name": "stderr",
          "text": [
            "WARNING:absl:Found untraced functions such as bert_preprocessor_layer_call_fn, bert_preprocessor_layer_call_and_return_conditional_losses, bert_tokenizer_layer_call_fn, bert_tokenizer_layer_call_and_return_conditional_losses, multi_segment_packer_layer_call_fn while saving (showing 5 of 58). These functions will not be directly callable after loading.\n"
          ]
        }
      ]
    },
    {
      "cell_type": "code",
      "source": [
        "!zip -r /content/bert_tiny_en_uncased_sarc_1epoch.zip /content/bert_tiny_en_uncased_sarc_1epoch"
      ],
      "metadata": {
        "colab": {
          "base_uri": "https://localhost:8080/"
        },
        "id": "dtFHtTVqUIqL",
        "outputId": "d2992853-9bcc-4454-d3be-b70a79097ad2"
      },
      "execution_count": null,
      "outputs": [
        {
          "output_type": "stream",
          "name": "stdout",
          "text": [
            "  adding: content/bert_tiny_en_uncased_sarc_1epoch/ (stored 0%)\n",
            "  adding: content/bert_tiny_en_uncased_sarc_1epoch/assets/ (stored 0%)\n",
            "  adding: content/bert_tiny_en_uncased_sarc_1epoch/keras_metadata.pb (deflated 64%)\n",
            "  adding: content/bert_tiny_en_uncased_sarc_1epoch/fingerprint.pb (stored 0%)\n",
            "  adding: content/bert_tiny_en_uncased_sarc_1epoch/variables/ (stored 0%)\n",
            "  adding: content/bert_tiny_en_uncased_sarc_1epoch/variables/variables.data-00000-of-00001 (deflated 22%)\n",
            "  adding: content/bert_tiny_en_uncased_sarc_1epoch/variables/variables.index (deflated 73%)\n",
            "  adding: content/bert_tiny_en_uncased_sarc_1epoch/saved_model.pb (deflated 90%)\n"
          ]
        }
      ]
    },
    {
      "cell_type": "code",
      "source": [
        "classifier.fit(train_ds, epochs=1)"
      ],
      "metadata": {
        "colab": {
          "base_uri": "https://localhost:8080/"
        },
        "id": "D-VsOOrIT8x9",
        "outputId": "961154e3-5324-4ec9-dc58-0f473b959155"
      },
      "execution_count": null,
      "outputs": [
        {
          "output_type": "stream",
          "name": "stdout",
          "text": [
            "25271/25271 [==============================] - 7714s 305ms/step - loss: 0.5190 - sparse_categorical_accuracy: 0.7403\n"
          ]
        },
        {
          "output_type": "execute_result",
          "data": {
            "text/plain": [
              "<keras.callbacks.History at 0x7f516eccb0d0>"
            ]
          },
          "metadata": {},
          "execution_count": 18
        }
      ]
    },
    {
      "cell_type": "code",
      "source": [
        "classifier.evaluate(test_ds)"
      ],
      "metadata": {
        "colab": {
          "base_uri": "https://localhost:8080/"
        },
        "id": "sX3rYlOwUqJm",
        "outputId": "2522a59b-1ab3-447e-b407-b7f8a1b7ab80"
      },
      "execution_count": null,
      "outputs": [
        {
          "output_type": "stream",
          "name": "stdout",
          "text": [
            "6318/6318 [==============================] - 145s 23ms/step - loss: 0.5157 - sparse_categorical_accuracy: 0.7413\n"
          ]
        },
        {
          "output_type": "execute_result",
          "data": {
            "text/plain": [
              "[0.515674889087677, 0.7412714958190918]"
            ]
          },
          "metadata": {},
          "execution_count": 19
        }
      ]
    },
    {
      "cell_type": "code",
      "source": [
        "classifier.save('bert_tiny_en_uncased_sarc_2epoch')"
      ],
      "metadata": {
        "colab": {
          "base_uri": "https://localhost:8080/"
        },
        "id": "FlDk91WXUsS1",
        "outputId": "213d4234-2c94-48fc-9ba8-a042fe0079af"
      },
      "execution_count": null,
      "outputs": [
        {
          "output_type": "stream",
          "name": "stderr",
          "text": [
            "WARNING:absl:Found untraced functions such as bert_preprocessor_layer_call_fn, bert_preprocessor_layer_call_and_return_conditional_losses, bert_tokenizer_layer_call_fn, bert_tokenizer_layer_call_and_return_conditional_losses, multi_segment_packer_layer_call_fn while saving (showing 5 of 58). These functions will not be directly callable after loading.\n"
          ]
        }
      ]
    },
    {
      "cell_type": "code",
      "source": [
        "!zip -r /content/bert_tiny_en_uncased_sarc_2epoch.zip /content/bert_tiny_en_uncased_sarc_2epoch"
      ],
      "metadata": {
        "colab": {
          "base_uri": "https://localhost:8080/"
        },
        "id": "bx_7-sNvUwEF",
        "outputId": "c990124f-5c4e-4749-b206-08a895fb3bed"
      },
      "execution_count": null,
      "outputs": [
        {
          "output_type": "stream",
          "name": "stdout",
          "text": [
            "  adding: content/bert_tiny_en_uncased_sarc_2epoch/ (stored 0%)\n",
            "  adding: content/bert_tiny_en_uncased_sarc_2epoch/assets/ (stored 0%)\n",
            "  adding: content/bert_tiny_en_uncased_sarc_2epoch/keras_metadata.pb (deflated 64%)\n",
            "  adding: content/bert_tiny_en_uncased_sarc_2epoch/fingerprint.pb (stored 0%)\n",
            "  adding: content/bert_tiny_en_uncased_sarc_2epoch/variables/ (stored 0%)\n",
            "  adding: content/bert_tiny_en_uncased_sarc_2epoch/variables/variables.data-00000-of-00001 (deflated 22%)\n",
            "  adding: content/bert_tiny_en_uncased_sarc_2epoch/variables/variables.index (deflated 73%)\n",
            "  adding: content/bert_tiny_en_uncased_sarc_2epoch/saved_model.pb (deflated 90%)\n"
          ]
        }
      ]
    },
    {
      "cell_type": "code",
      "source": [
        "def prediction(text):\n",
        "  if np.argmax(classifier.predict([text])[0]) == 0:\n",
        "    print('Not sarcastic')\n",
        "  else:\n",
        "    print('sarcastic')"
      ],
      "metadata": {
        "id": "RMK_q0EdzFW3"
      },
      "execution_count": null,
      "outputs": []
    },
    {
      "cell_type": "code",
      "source": [
        "prediction('I really love my pc')"
      ],
      "metadata": {
        "colab": {
          "base_uri": "https://localhost:8080/"
        },
        "id": "D1Skz_2Aztt_",
        "outputId": "1f9f5c9c-4978-4f8c-f62b-972ccf32542c"
      },
      "execution_count": null,
      "outputs": [
        {
          "output_type": "stream",
          "name": "stdout",
          "text": [
            "1/1 [==============================] - 1s 891ms/step\n",
            "Not sarcastic\n"
          ]
        }
      ]
    },
    {
      "cell_type": "code",
      "source": [
        "prediction('I totally LOVE this pc')"
      ],
      "metadata": {
        "colab": {
          "base_uri": "https://localhost:8080/"
        },
        "id": "r-HtgpUdzz11",
        "outputId": "c311e059-6059-427d-a066-dcc0bd0c1604"
      },
      "execution_count": null,
      "outputs": [
        {
          "output_type": "stream",
          "name": "stdout",
          "text": [
            "1/1 [==============================] - 1s 883ms/step\n",
            "sarcastic\n"
          ]
        }
      ]
    },
    {
      "cell_type": "code",
      "source": [
        "!unzip bert_tiny_en_uncased_sarc_1epoch.zip"
      ],
      "metadata": {
        "id": "lWy3BhgI0YT_",
        "colab": {
          "base_uri": "https://localhost:8080/"
        },
        "outputId": "374baed3-4220-4b28-9e2e-1df7363523b1"
      },
      "execution_count": null,
      "outputs": [
        {
          "output_type": "stream",
          "name": "stdout",
          "text": [
            "Archive:  bert_tiny_en_uncased_sarc_1epoch.zip\n",
            "   creating: content/bert_tiny_en_uncased_sarc_1epoch/\n",
            "   creating: content/bert_tiny_en_uncased_sarc_1epoch/assets/\n",
            "  inflating: content/bert_tiny_en_uncased_sarc_1epoch/keras_metadata.pb  \n",
            " extracting: content/bert_tiny_en_uncased_sarc_1epoch/fingerprint.pb  \n",
            "   creating: content/bert_tiny_en_uncased_sarc_1epoch/variables/\n",
            "  inflating: content/bert_tiny_en_uncased_sarc_1epoch/variables/variables.data-00000-of-00001  \n",
            "  inflating: content/bert_tiny_en_uncased_sarc_1epoch/variables/variables.index  \n",
            "  inflating: content/bert_tiny_en_uncased_sarc_1epoch/saved_model.pb  \n"
          ]
        }
      ]
    },
    {
      "cell_type": "code",
      "source": [
        "!unzip bert_tiny_en_uncased_sarc_2epoch.zip"
      ],
      "metadata": {
        "colab": {
          "base_uri": "https://localhost:8080/"
        },
        "id": "Pk3F0ubjK0hx",
        "outputId": "a362d557-f9dc-46fd-dce2-0882ea45d165"
      },
      "execution_count": null,
      "outputs": [
        {
          "output_type": "stream",
          "name": "stdout",
          "text": [
            "Archive:  bert_tiny_en_uncased_sarc_2epoch.zip\n",
            "   creating: content/bert_tiny_en_uncased_sarc_2epoch/\n",
            "   creating: content/bert_tiny_en_uncased_sarc_2epoch/assets/\n",
            "  inflating: content/bert_tiny_en_uncased_sarc_2epoch/keras_metadata.pb  \n",
            " extracting: content/bert_tiny_en_uncased_sarc_2epoch/fingerprint.pb  \n",
            "   creating: content/bert_tiny_en_uncased_sarc_2epoch/variables/\n",
            "  inflating: content/bert_tiny_en_uncased_sarc_2epoch/variables/variables.data-00000-of-00001  \n",
            "  inflating: content/bert_tiny_en_uncased_sarc_2epoch/variables/variables.index  \n",
            "  inflating: content/bert_tiny_en_uncased_sarc_2epoch/saved_model.pb  \n"
          ]
        }
      ]
    },
    {
      "cell_type": "code",
      "source": [
        "!rm -rf /content/content"
      ],
      "metadata": {
        "id": "4PuOyMeNM9FR"
      },
      "execution_count": null,
      "outputs": []
    },
    {
      "cell_type": "code",
      "source": [
        "model = keras.models.load_model('/content/content/bert_tiny_en_uncased_sarc_1epoch')"
      ],
      "metadata": {
        "colab": {
          "base_uri": "https://localhost:8080/",
          "height": 311
        },
        "id": "aA6_7aS-Nklh",
        "outputId": "2bef00e2-3d70-4a5a-f376-d31dbda683f1"
      },
      "execution_count": null,
      "outputs": [
        {
          "output_type": "error",
          "ename": "AttributeError",
          "evalue": "ignored",
          "traceback": [
            "\u001b[0;31m---------------------------------------------------------------------------\u001b[0m",
            "\u001b[0;31mAttributeError\u001b[0m                            Traceback (most recent call last)",
            "\u001b[0;32m<ipython-input-31-4285845f4ac5>\u001b[0m in \u001b[0;36m<cell line: 1>\u001b[0;34m()\u001b[0m\n\u001b[0;32m----> 1\u001b[0;31m \u001b[0mmodel\u001b[0m \u001b[0;34m=\u001b[0m \u001b[0mkeras\u001b[0m\u001b[0;34m.\u001b[0m\u001b[0mmodels\u001b[0m\u001b[0;34m.\u001b[0m\u001b[0mload_model\u001b[0m\u001b[0;34m(\u001b[0m\u001b[0;34m'/content/content/bert_tiny_en_uncased_sarc_1epoch'\u001b[0m\u001b[0;34m)\u001b[0m\u001b[0;34m\u001b[0m\u001b[0;34m\u001b[0m\u001b[0m\n\u001b[0m",
            "\u001b[0;32m/usr/local/lib/python3.9/dist-packages/keras/saving/saving_api.py\u001b[0m in \u001b[0;36mload_model\u001b[0;34m(filepath, custom_objects, compile, safe_mode, **kwargs)\u001b[0m\n\u001b[1;32m    210\u001b[0m \u001b[0;34m\u001b[0m\u001b[0m\n\u001b[1;32m    211\u001b[0m     \u001b[0;31m# Legacy case.\u001b[0m\u001b[0;34m\u001b[0m\u001b[0;34m\u001b[0m\u001b[0m\n\u001b[0;32m--> 212\u001b[0;31m     return legacy_sm_saving_lib.load_model(\n\u001b[0m\u001b[1;32m    213\u001b[0m         \u001b[0mfilepath\u001b[0m\u001b[0;34m,\u001b[0m \u001b[0mcustom_objects\u001b[0m\u001b[0;34m=\u001b[0m\u001b[0mcustom_objects\u001b[0m\u001b[0;34m,\u001b[0m \u001b[0mcompile\u001b[0m\u001b[0;34m=\u001b[0m\u001b[0mcompile\u001b[0m\u001b[0;34m,\u001b[0m \u001b[0;34m**\u001b[0m\u001b[0mkwargs\u001b[0m\u001b[0;34m\u001b[0m\u001b[0;34m\u001b[0m\u001b[0m\n\u001b[1;32m    214\u001b[0m     )\n",
            "\u001b[0;32m/usr/local/lib/python3.9/dist-packages/keras/utils/traceback_utils.py\u001b[0m in \u001b[0;36merror_handler\u001b[0;34m(*args, **kwargs)\u001b[0m\n\u001b[1;32m     68\u001b[0m             \u001b[0;31m# To get the full stack trace, call:\u001b[0m\u001b[0;34m\u001b[0m\u001b[0;34m\u001b[0m\u001b[0m\n\u001b[1;32m     69\u001b[0m             \u001b[0;31m# `tf.debugging.disable_traceback_filtering()`\u001b[0m\u001b[0;34m\u001b[0m\u001b[0;34m\u001b[0m\u001b[0m\n\u001b[0;32m---> 70\u001b[0;31m             \u001b[0;32mraise\u001b[0m \u001b[0me\u001b[0m\u001b[0;34m.\u001b[0m\u001b[0mwith_traceback\u001b[0m\u001b[0;34m(\u001b[0m\u001b[0mfiltered_tb\u001b[0m\u001b[0;34m)\u001b[0m \u001b[0;32mfrom\u001b[0m \u001b[0;32mNone\u001b[0m\u001b[0;34m\u001b[0m\u001b[0;34m\u001b[0m\u001b[0m\n\u001b[0m\u001b[1;32m     71\u001b[0m         \u001b[0;32mfinally\u001b[0m\u001b[0;34m:\u001b[0m\u001b[0;34m\u001b[0m\u001b[0;34m\u001b[0m\u001b[0m\n\u001b[1;32m     72\u001b[0m             \u001b[0;32mdel\u001b[0m \u001b[0mfiltered_tb\u001b[0m\u001b[0;34m\u001b[0m\u001b[0;34m\u001b[0m\u001b[0m\n",
            "\u001b[0;32m/usr/local/lib/python3.9/dist-packages/tensorflow/python/saved_model/load.py\u001b[0m in \u001b[0;36m_add_object_graph_edges\u001b[0;34m(self, proto, node_id)\u001b[0m\n\u001b[1;32m    348\u001b[0m \u001b[0;34m\u001b[0m\u001b[0m\n\u001b[1;32m    349\u001b[0m     \u001b[0;32mfor\u001b[0m \u001b[0mreference\u001b[0m \u001b[0;32min\u001b[0m \u001b[0mproto\u001b[0m\u001b[0;34m.\u001b[0m\u001b[0mchildren\u001b[0m\u001b[0;34m:\u001b[0m\u001b[0;34m\u001b[0m\u001b[0;34m\u001b[0m\u001b[0m\n\u001b[0;32m--> 350\u001b[0;31m       \u001b[0msetter\u001b[0m\u001b[0;34m(\u001b[0m\u001b[0mobj\u001b[0m\u001b[0;34m,\u001b[0m \u001b[0mreference\u001b[0m\u001b[0;34m.\u001b[0m\u001b[0mlocal_name\u001b[0m\u001b[0;34m,\u001b[0m \u001b[0mself\u001b[0m\u001b[0;34m.\u001b[0m\u001b[0m_nodes\u001b[0m\u001b[0;34m[\u001b[0m\u001b[0mreference\u001b[0m\u001b[0;34m.\u001b[0m\u001b[0mnode_id\u001b[0m\u001b[0;34m]\u001b[0m\u001b[0;34m)\u001b[0m\u001b[0;34m\u001b[0m\u001b[0;34m\u001b[0m\u001b[0m\n\u001b[0m\u001b[1;32m    351\u001b[0m       \u001b[0;31m# Note: if an object has an attribute `__call__` add a class method\u001b[0m\u001b[0;34m\u001b[0m\u001b[0;34m\u001b[0m\u001b[0m\n\u001b[1;32m    352\u001b[0m       \u001b[0;31m# that allows `obj()` syntax to work. This is done per-instance to\u001b[0m\u001b[0;34m\u001b[0m\u001b[0;34m\u001b[0m\u001b[0m\n",
            "\u001b[0;31mAttributeError\u001b[0m: can't set attribute"
          ]
        }
      ]
    },
    {
      "cell_type": "code",
      "source": [],
      "metadata": {
        "id": "i-EPpfomOGRA"
      },
      "execution_count": null,
      "outputs": []
    }
  ]
}